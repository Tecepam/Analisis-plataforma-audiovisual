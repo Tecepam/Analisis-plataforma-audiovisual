{
 "cells": [
  {
   "cell_type": "code",
   "execution_count": 2,
   "id": "bd78c368-e62c-4620-b1ae-13eb89d3a773",
   "metadata": {
    "tags": []
   },
   "outputs": [],
   "source": [
    "import pandas as pd\n",
    "import matplotlib.pyplot as plt\n",
    "import seaborn as sns\n",
    "import numpy as np\n",
    "\n",
    "from sklearn.model_selection import train_test_split, cross_val_score\n",
    "from sklearn.preprocessing import OneHotEncoder, StandardScaler\n",
    "from sklearn.feature_extraction.text import TfidfVectorizer\n",
    "from sklearn.pipeline import Pipeline\n",
    "from sklearn.compose import ColumnTransformer\n",
    "from sklearn.metrics import mean_squared_error, r2_score\n",
    "from sklearn.ensemble import RandomForestRegressor\n",
    "\n",
    "import nltk\n",
    "from nltk.tokenize import word_tokenize\n",
    "from scipy.cluster.hierarchy import dendrogram, linkage\n",
    "from pandas.api.types import CategoricalDtype\n",
    "from collections import defaultdict\n",
    "from nltk.corpus import stopwords\n",
    "import nltk\n",
    "from PIL import Image\n",
    "from wordcloud import WordCloud\n",
    "from PIL import Image, ImageDraw, ImageFont\n",
    "import random\n",
    "import os\n",
    "\n",
    "from sklearn.linear_model import LinearRegression"
   ]
  },
  {
   "cell_type": "code",
   "execution_count": 3,
   "id": "b354b8e4-b481-4f43-8381-24f0eae88ebf",
   "metadata": {
    "tags": []
   },
   "outputs": [],
   "source": [
    "# Leer la hoja \"Film\" del archivo Excel\n",
    "df_budget = pd.read_excel('Netflix2023_2.xlsx', sheet_name='Film')"
   ]
  },
  {
   "cell_type": "code",
   "execution_count": 17,
   "id": "ecf6f3ef-bfe4-40aa-ac9c-c0b4331e1102",
   "metadata": {
    "tags": []
   },
   "outputs": [],
   "source": [
    "df_budget = df_budget.iloc[4:].reset_index(drop=True)"
   ]
  },
  {
   "cell_type": "code",
   "execution_count": 19,
   "id": "6a1bb021-0a42-460a-8293-e1132a289f9b",
   "metadata": {
    "tags": []
   },
   "outputs": [],
   "source": [
    "df_budget.columns = df_budget.iloc[0]\n",
    "df_budget = df_budget[1:].reset_index(drop=True)"
   ]
  },
  {
   "cell_type": "code",
   "execution_count": 21,
   "id": "5f38c869-5875-46fd-8bb0-3474301bdb76",
   "metadata": {
    "tags": []
   },
   "outputs": [],
   "source": [
    "df_budget = df_budget.drop(df_budget.columns[0], axis=1)"
   ]
  },
  {
   "cell_type": "code",
   "execution_count": 22,
   "id": "c1e4669d-30c9-4fcc-a9d2-6b610ba79c27",
   "metadata": {
    "tags": []
   },
   "outputs": [],
   "source": [
    "df_budget = df_budget.dropna(subset=['Release Date'])"
   ]
  },
  {
   "cell_type": "code",
   "execution_count": 23,
   "id": "78e3b96b-1c04-4ccb-b79a-772c9f1c2493",
   "metadata": {
    "tags": []
   },
   "outputs": [
    {
     "data": {
      "text/plain": [
       "Index(['Title', 'Available Globally?', 'Release Date', 'Hours Viewed',\n",
       "       'Runtime', 'Views'],\n",
       "      dtype='object', name=0)"
      ]
     },
     "execution_count": 23,
     "metadata": {},
     "output_type": "execute_result"
    }
   ],
   "source": [
    "df_budget.columns"
   ]
  },
  {
   "cell_type": "code",
   "execution_count": 24,
   "id": "34813ba6-10ad-44ef-9738-b852ec143d4e",
   "metadata": {
    "tags": []
   },
   "outputs": [],
   "source": [
    "# Función para convertir horas:minutos a minutos (float)\n",
    "def convert_to_minutes(time_str):\n",
    "    hours, minutes = map(int, time_str.split(':'))\n",
    "    return hours * 60 + minutes\n",
    "\n",
    "# Aplicar la función a la columna\n",
    "df_budget['time_in_minutes'] = df_budget['Runtime'].apply(convert_to_minutes)"
   ]
  },
  {
   "cell_type": "code",
   "execution_count": 25,
   "id": "c41f6b19-63f1-4127-bbe1-367e4ea6ccde",
   "metadata": {
    "tags": []
   },
   "outputs": [],
   "source": [
    "# Asegurarse de que la columna \"Release Date\" esté en formato de fecha\n",
    "df_budget['Release Date'] = pd.to_datetime(df_budget['Release Date'], errors='coerce')"
   ]
  },
  {
   "cell_type": "code",
   "execution_count": 31,
   "id": "7cabc13d-4478-4b25-bf9b-a9fdf35fd51c",
   "metadata": {
    "tags": []
   },
   "outputs": [],
   "source": [
    "# Extraer el año de la columna \"Release Date\"\n",
    "df_budget['Release Year'] = df_budget['Release Date'].dt.year"
   ]
  },
  {
   "cell_type": "code",
   "execution_count": 32,
   "id": "a9660b9e-472f-4c06-bd9a-19584080ac17",
   "metadata": {
    "tags": []
   },
   "outputs": [
    {
     "name": "stdout",
     "output_type": "stream",
     "text": [
      "0 Release Date  Release Year\n",
      "0   2023-12-08          2023\n",
      "1   2023-08-11          2023\n",
      "2   2023-11-21          2023\n",
      "3   2023-09-29          2023\n",
      "4   2023-07-07          2023\n"
     ]
    }
   ],
   "source": [
    "# Mostrar las primeras filas del DataFrame para verificar\n",
    "print(df_budget[['Release Date', 'Release Year']].head())"
   ]
  },
  {
   "cell_type": "code",
   "execution_count": 33,
   "id": "925065ec-4ad7-4e36-b39d-66c21f600a31",
   "metadata": {
    "tags": []
   },
   "outputs": [],
   "source": [
    "df_Netflix = df_budget"
   ]
  },
  {
   "cell_type": "code",
   "execution_count": 42,
   "id": "5ed9b6cb-04a3-4886-bab2-ab02d8587f5e",
   "metadata": {
    "tags": []
   },
   "outputs": [
    {
     "name": "stdout",
     "output_type": "stream",
     "text": [
      "0                   Views  time_in_minutes  Release Year\n",
      "0                                                       \n",
      "Views            1.000000         0.082423      0.273146\n",
      "time_in_minutes  0.082423         1.000000      0.049304\n",
      "Release Year     0.273146         0.049304      1.000000\n"
     ]
    }
   ],
   "source": [
    "df_Netflix['Views'] = pd.to_numeric(df_Netflix['Views'], errors='coerce')\n",
    "df_Netflix['time_in_minutes'] = pd.to_numeric(df_Netflix['time_in_minutes'], errors='coerce')\n",
    "\n",
    "# Eliminar filas con valores nulos en las columnas relevantes\n",
    "df_Netflix.dropna(subset=['Views', 'time_in_minutes', 'Release Year'], inplace=True)\n",
    "\n",
    "# Calcular la correlación\n",
    "correlation_matrix = df_Netflix[['Views', 'time_in_minutes', 'Release Year']].corr()\n",
    "print(correlation_matrix)"
   ]
  },
  {
   "cell_type": "code",
   "execution_count": 35,
   "id": "89606397-e4f8-4718-a03e-be1d300b60f3",
   "metadata": {
    "tags": []
   },
   "outputs": [
    {
     "name": "stdout",
     "output_type": "stream",
     "text": [
      "0                   Views  time_in_minutes  Release Year\n",
      "0                                                       \n",
      "Views            1.000000         0.082423      0.273146\n",
      "time_in_minutes  0.082423         1.000000      0.049304\n",
      "Release Year     0.273146         0.049304      1.000000\n"
     ]
    }
   ],
   "source": [
    "# Asegurarse de que las columnas \"Views\" y \"time_in_minutes\" son numéricas\n",
    "df_Netflix['Views'] = pd.to_numeric(df_Netflix['Views'], errors='coerce')\n",
    "df_Netflix['time_in_minutes'] = pd.to_numeric(df_Netflix['time_in_minutes'], errors='coerce')\n",
    "\n",
    "# Eliminar filas con valores nulos en las columnas relevantes\n",
    "df_Netflix.dropna(subset=['Views', 'time_in_minutes', 'Release Year'], inplace=True)\n",
    "\n",
    "# Calcular la correlación\n",
    "correlation_matrix = df_Netflix[['Views', 'time_in_minutes', 'Release Year']].corr()\n",
    "print(correlation_matrix)"
   ]
  },
  {
   "cell_type": "code",
   "execution_count": null,
   "id": "f6b9234a-8a7c-42e6-88e8-99502ef5e4a1",
   "metadata": {},
   "outputs": [],
   "source": []
  },
  {
   "cell_type": "code",
   "execution_count": null,
   "id": "e237446e-903c-4435-9b20-e1eed1a7cc6b",
   "metadata": {},
   "outputs": [],
   "source": []
  }
 ],
 "metadata": {
  "kernelspec": {
   "display_name": "Python 3 (ipykernel)",
   "language": "python",
   "name": "python3"
  },
  "language_info": {
   "codemirror_mode": {
    "name": "ipython",
    "version": 3
   },
   "file_extension": ".py",
   "mimetype": "text/x-python",
   "name": "python",
   "nbconvert_exporter": "python",
   "pygments_lexer": "ipython3",
   "version": "3.11.7"
  }
 },
 "nbformat": 4,
 "nbformat_minor": 5
}
