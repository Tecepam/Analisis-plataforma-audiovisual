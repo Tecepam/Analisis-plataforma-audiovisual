{
 "cells": [
  {
   "cell_type": "markdown",
   "id": "a9c9c528-91c1-467d-b23b-13086a723900",
   "metadata": {},
   "source": [
    "##  Librerías"
   ]
  },
  {
   "cell_type": "code",
   "execution_count": 4,
   "id": "bd78c368-e62c-4620-b1ae-13eb89d3a773",
   "metadata": {
    "tags": []
   },
   "outputs": [],
   "source": [
    "import pandas as pd\n",
    "import matplotlib.pyplot as plt\n",
    "import seaborn as sns\n",
    "import numpy as np\n",
    "\n",
    "from sklearn.model_selection import train_test_split, cross_val_score\n",
    "from sklearn.preprocessing import OneHotEncoder, StandardScaler\n",
    "from sklearn.feature_extraction.text import TfidfVectorizer\n",
    "from sklearn.pipeline import Pipeline\n",
    "from sklearn.compose import ColumnTransformer\n",
    "from sklearn.metrics import mean_squared_error, r2_score\n",
    "from sklearn.ensemble import RandomForestRegressor\n",
    "\n",
    "import nltk\n",
    "from nltk.tokenize import word_tokenize\n",
    "from scipy.cluster.hierarchy import dendrogram, linkage\n",
    "from pandas.api.types import CategoricalDtype\n",
    "from collections import defaultdict\n",
    "from nltk.corpus import stopwords\n",
    "import nltk\n",
    "from PIL import Image\n",
    "from wordcloud import WordCloud\n",
    "from PIL import Image, ImageDraw, ImageFont\n",
    "import random\n",
    "import os\n",
    "\n",
    "from sklearn.linear_model import LinearRegression"
   ]
  },
  {
   "cell_type": "markdown",
   "id": "8bd16a3b-b573-460d-91b6-9a1230626aaa",
   "metadata": {},
   "source": [
    "## Importar tabla"
   ]
  },
  {
   "cell_type": "code",
   "execution_count": 6,
   "id": "a03c9d5b-7e06-498d-a1b6-c6334f17097c",
   "metadata": {
    "tags": []
   },
   "outputs": [],
   "source": [
    "df_Netflix = pd.read_excel('Netflix2023_2.xlsx', sheet_name = 'Film')"
   ]
  },
  {
   "cell_type": "markdown",
   "id": "ab9926e9-add9-4d5b-be9b-03fb84582b60",
   "metadata": {},
   "source": [
    "## Limpieza"
   ]
  },
  {
   "cell_type": "code",
   "execution_count": 8,
   "id": "5c6eda2c-94d5-4612-a484-c38d5362c853",
   "metadata": {
    "tags": []
   },
   "outputs": [
    {
     "data": {
      "text/plain": [
       "Index(['Unnamed: 0', 'Unnamed: 1', 'Unnamed: 2', 'Unnamed: 3', 'Unnamed: 4',\n",
       "       'Unnamed: 5', 'Unnamed: 6'],\n",
       "      dtype='object')"
      ]
     },
     "execution_count": 8,
     "metadata": {},
     "output_type": "execute_result"
    }
   ],
   "source": [
    "df_Netflix.columns"
   ]
  },
  {
   "cell_type": "code",
   "execution_count": 9,
   "id": "21af65a3-f617-4cf5-83df-cb4e25ea9a2d",
   "metadata": {
    "tags": []
   },
   "outputs": [],
   "source": [
    "df_budget = df_Netflix.iloc[4:].reset_index(drop=True)"
   ]
  },
  {
   "cell_type": "code",
   "execution_count": 10,
   "id": "bb6d5d8c-1084-4818-8b30-c2bbdfad81e1",
   "metadata": {
    "tags": []
   },
   "outputs": [],
   "source": [
    "df_budget.columns = df_budget.iloc[0]\n",
    "df_budget = df_budget[1:].reset_index(drop=True)"
   ]
  },
  {
   "cell_type": "code",
   "execution_count": 12,
   "id": "1c71ed91-4c36-4b24-8dfa-1a30485c018b",
   "metadata": {
    "tags": []
   },
   "outputs": [],
   "source": [
    "df_budget = df_budget.drop(df_budget.columns[0], axis=1)"
   ]
  },
  {
   "cell_type": "code",
   "execution_count": 13,
   "id": "4b1ab692-2b0a-4030-9f58-28e113e8cc70",
   "metadata": {
    "tags": []
   },
   "outputs": [],
   "source": [
    "df_budget = df_budget.dropna(subset=['Release Date'])"
   ]
  },
  {
   "cell_type": "code",
   "execution_count": 14,
   "id": "626d538c-f30c-4c90-9c1a-ed2c4bb2aa6e",
   "metadata": {
    "tags": []
   },
   "outputs": [
    {
     "data": {
      "text/plain": [
       "Index(['Title', 'Available Globally?', 'Release Date', 'Hours Viewed',\n",
       "       'Runtime', 'Views'],\n",
       "      dtype='object', name=0)"
      ]
     },
     "execution_count": 14,
     "metadata": {},
     "output_type": "execute_result"
    }
   ],
   "source": [
    "df_budget.columns"
   ]
  },
  {
   "cell_type": "markdown",
   "id": "d4ed574f-d75f-4738-a8f7-9bd1453154a3",
   "metadata": {},
   "source": [
    "### Tiempo en minutos y de 'string' a FLOAT"
   ]
  },
  {
   "cell_type": "code",
   "execution_count": 16,
   "id": "7e48db8e-340d-4229-b4fc-6e8ef1231a61",
   "metadata": {
    "tags": []
   },
   "outputs": [],
   "source": [
    "# Función para convertir horas:minutos a minutos (float)\n",
    "def convert_to_minutes(time_str):\n",
    "    hours, minutes = map(int, time_str.split(':'))\n",
    "    return hours * 60 + minutes\n",
    "\n",
    "# Aplicar la función a la columna\n",
    "df_budget['time_in_minutes'] = df_budget['Runtime'].apply(convert_to_minutes)"
   ]
  },
  {
   "cell_type": "code",
   "execution_count": 17,
   "id": "b3d292a5-ee5e-4e28-bf67-e2bf8296136a",
   "metadata": {
    "tags": []
   },
   "outputs": [
    {
     "data": {
      "text/plain": [
       "Index(['Title', 'Available Globally?', 'Release Date', 'Hours Viewed',\n",
       "       'Runtime', 'Views', 'time_in_minutes'],\n",
       "      dtype='object', name=0)"
      ]
     },
     "execution_count": 17,
     "metadata": {},
     "output_type": "execute_result"
    }
   ],
   "source": [
    "df_budget.columns"
   ]
  },
  {
   "cell_type": "code",
   "execution_count": 18,
   "id": "0753530b-8c78-4394-8381-fd0e0bee8d23",
   "metadata": {
    "tags": []
   },
   "outputs": [],
   "source": [
    "# Convertir 'Release Date' a datetime y extraer el año\n",
    "df_budget['Year'] = pd.to_datetime(df_budget['Release Date']).dt.year"
   ]
  },
  {
   "cell_type": "code",
   "execution_count": 19,
   "id": "519f9b81-a301-4033-a4ee-bab65938e4c7",
   "metadata": {
    "tags": []
   },
   "outputs": [
    {
     "data": {
      "text/plain": [
       "Index(['Title', 'Available Globally?', 'Release Date', 'Hours Viewed',\n",
       "       'Runtime', 'Views', 'time_in_minutes', 'Year'],\n",
       "      dtype='object', name=0)"
      ]
     },
     "execution_count": 19,
     "metadata": {},
     "output_type": "execute_result"
    }
   ],
   "source": [
    "df_budget.columns"
   ]
  },
  {
   "cell_type": "markdown",
   "id": "13857849-bb8b-4325-8b31-f193e02f071c",
   "metadata": {},
   "source": [
    "## ML"
   ]
  },
  {
   "cell_type": "code",
   "execution_count": 56,
   "id": "1b2eaecf-7f0e-4513-92d6-dea1e25091f1",
   "metadata": {
    "tags": []
   },
   "outputs": [],
   "source": [
    "X = df_budget[['time_in_minutes']]\n",
    "y = df_budget['Year']"
   ]
  },
  {
   "cell_type": "code",
   "execution_count": 58,
   "id": "c280c5f9-5d60-4fcf-9c7c-65122a25ce35",
   "metadata": {
    "tags": []
   },
   "outputs": [
    {
     "data": {
      "text/plain": [
       "Index(['Title', 'Available Globally?', 'Release Date', 'Hours Viewed',\n",
       "       'Runtime', 'Views', 'time_in_minutes', 'Year'],\n",
       "      dtype='object', name=0)"
      ]
     },
     "execution_count": 58,
     "metadata": {},
     "output_type": "execute_result"
    }
   ],
   "source": [
    "df_budget.columns"
   ]
  },
  {
   "cell_type": "code",
   "execution_count": 60,
   "id": "e9ab4516-aad0-4950-887d-a3930c0428ac",
   "metadata": {
    "tags": []
   },
   "outputs": [],
   "source": [
    "# Dividir los datos en conjuntos de entrenamiento y prueba\n",
    "X_train, X_test, y_train, y_test = train_test_split(X, y, test_size=0.2, random_state=42)"
   ]
  },
  {
   "cell_type": "code",
   "execution_count": 62,
   "id": "0b513f46-f888-472d-a5e0-9cf937d4739a",
   "metadata": {
    "tags": []
   },
   "outputs": [
    {
     "data": {
      "text/html": [
       "<style>#sk-container-id-2 {color: black;background-color: white;}#sk-container-id-2 pre{padding: 0;}#sk-container-id-2 div.sk-toggleable {background-color: white;}#sk-container-id-2 label.sk-toggleable__label {cursor: pointer;display: block;width: 100%;margin-bottom: 0;padding: 0.3em;box-sizing: border-box;text-align: center;}#sk-container-id-2 label.sk-toggleable__label-arrow:before {content: \"▸\";float: left;margin-right: 0.25em;color: #696969;}#sk-container-id-2 label.sk-toggleable__label-arrow:hover:before {color: black;}#sk-container-id-2 div.sk-estimator:hover label.sk-toggleable__label-arrow:before {color: black;}#sk-container-id-2 div.sk-toggleable__content {max-height: 0;max-width: 0;overflow: hidden;text-align: left;background-color: #f0f8ff;}#sk-container-id-2 div.sk-toggleable__content pre {margin: 0.2em;color: black;border-radius: 0.25em;background-color: #f0f8ff;}#sk-container-id-2 input.sk-toggleable__control:checked~div.sk-toggleable__content {max-height: 200px;max-width: 100%;overflow: auto;}#sk-container-id-2 input.sk-toggleable__control:checked~label.sk-toggleable__label-arrow:before {content: \"▾\";}#sk-container-id-2 div.sk-estimator input.sk-toggleable__control:checked~label.sk-toggleable__label {background-color: #d4ebff;}#sk-container-id-2 div.sk-label input.sk-toggleable__control:checked~label.sk-toggleable__label {background-color: #d4ebff;}#sk-container-id-2 input.sk-hidden--visually {border: 0;clip: rect(1px 1px 1px 1px);clip: rect(1px, 1px, 1px, 1px);height: 1px;margin: -1px;overflow: hidden;padding: 0;position: absolute;width: 1px;}#sk-container-id-2 div.sk-estimator {font-family: monospace;background-color: #f0f8ff;border: 1px dotted black;border-radius: 0.25em;box-sizing: border-box;margin-bottom: 0.5em;}#sk-container-id-2 div.sk-estimator:hover {background-color: #d4ebff;}#sk-container-id-2 div.sk-parallel-item::after {content: \"\";width: 100%;border-bottom: 1px solid gray;flex-grow: 1;}#sk-container-id-2 div.sk-label:hover label.sk-toggleable__label {background-color: #d4ebff;}#sk-container-id-2 div.sk-serial::before {content: \"\";position: absolute;border-left: 1px solid gray;box-sizing: border-box;top: 0;bottom: 0;left: 50%;z-index: 0;}#sk-container-id-2 div.sk-serial {display: flex;flex-direction: column;align-items: center;background-color: white;padding-right: 0.2em;padding-left: 0.2em;position: relative;}#sk-container-id-2 div.sk-item {position: relative;z-index: 1;}#sk-container-id-2 div.sk-parallel {display: flex;align-items: stretch;justify-content: center;background-color: white;position: relative;}#sk-container-id-2 div.sk-item::before, #sk-container-id-2 div.sk-parallel-item::before {content: \"\";position: absolute;border-left: 1px solid gray;box-sizing: border-box;top: 0;bottom: 0;left: 50%;z-index: -1;}#sk-container-id-2 div.sk-parallel-item {display: flex;flex-direction: column;z-index: 1;position: relative;background-color: white;}#sk-container-id-2 div.sk-parallel-item:first-child::after {align-self: flex-end;width: 50%;}#sk-container-id-2 div.sk-parallel-item:last-child::after {align-self: flex-start;width: 50%;}#sk-container-id-2 div.sk-parallel-item:only-child::after {width: 0;}#sk-container-id-2 div.sk-dashed-wrapped {border: 1px dashed gray;margin: 0 0.4em 0.5em 0.4em;box-sizing: border-box;padding-bottom: 0.4em;background-color: white;}#sk-container-id-2 div.sk-label label {font-family: monospace;font-weight: bold;display: inline-block;line-height: 1.2em;}#sk-container-id-2 div.sk-label-container {text-align: center;}#sk-container-id-2 div.sk-container {/* jupyter's `normalize.less` sets `[hidden] { display: none; }` but bootstrap.min.css set `[hidden] { display: none !important; }` so we also need the `!important` here to be able to override the default hidden behavior on the sphinx rendered scikit-learn.org. See: https://github.com/scikit-learn/scikit-learn/issues/21755 */display: inline-block !important;position: relative;}#sk-container-id-2 div.sk-text-repr-fallback {display: none;}</style><div id=\"sk-container-id-2\" class=\"sk-top-container\"><div class=\"sk-text-repr-fallback\"><pre>LinearRegression()</pre><b>In a Jupyter environment, please rerun this cell to show the HTML representation or trust the notebook. <br />On GitHub, the HTML representation is unable to render, please try loading this page with nbviewer.org.</b></div><div class=\"sk-container\" hidden><div class=\"sk-item\"><div class=\"sk-estimator sk-toggleable\"><input class=\"sk-toggleable__control sk-hidden--visually\" id=\"sk-estimator-id-2\" type=\"checkbox\" checked><label for=\"sk-estimator-id-2\" class=\"sk-toggleable__label sk-toggleable__label-arrow\">LinearRegression</label><div class=\"sk-toggleable__content\"><pre>LinearRegression()</pre></div></div></div></div></div>"
      ],
      "text/plain": [
       "LinearRegression()"
      ]
     },
     "execution_count": 62,
     "metadata": {},
     "output_type": "execute_result"
    }
   ],
   "source": [
    "modelo = LinearRegression()\n",
    "# Entrenar el modelo\n",
    "modelo.fit(X_train, y_train)"
   ]
  },
  {
   "cell_type": "code",
   "execution_count": 64,
   "id": "368bc855-f7ed-4828-9d25-fc09d7f03cec",
   "metadata": {
    "tags": []
   },
   "outputs": [],
   "source": [
    "y_predict = modelo.predict(X_test)"
   ]
  },
  {
   "cell_type": "code",
   "execution_count": 66,
   "id": "f0418576-64c4-4f27-b6ec-cef353b23be8",
   "metadata": {
    "tags": []
   },
   "outputs": [
    {
     "data": {
      "text/plain": [
       "-0.0004024265257849269"
      ]
     },
     "execution_count": 66,
     "metadata": {},
     "output_type": "execute_result"
    }
   ],
   "source": [
    "r2_score(y_true = y_test, y_pred = y_predict)"
   ]
  },
  {
   "cell_type": "code",
   "execution_count": 68,
   "id": "7468b7f8-3e1e-414c-8058-72f4385fa146",
   "metadata": {
    "tags": []
   },
   "outputs": [
    {
     "data": {
      "text/html": [
       "<div>\n",
       "<style scoped>\n",
       "    .dataframe tbody tr th:only-of-type {\n",
       "        vertical-align: middle;\n",
       "    }\n",
       "\n",
       "    .dataframe tbody tr th {\n",
       "        vertical-align: top;\n",
       "    }\n",
       "\n",
       "    .dataframe thead th {\n",
       "        text-align: right;\n",
       "    }\n",
       "</style>\n",
       "<table border=\"1\" class=\"dataframe\">\n",
       "  <thead>\n",
       "    <tr style=\"text-align: right;\">\n",
       "      <th></th>\n",
       "      <th>time_in_minutes</th>\n",
       "      <th>Year</th>\n",
       "    </tr>\n",
       "    <tr>\n",
       "      <th>0</th>\n",
       "      <th></th>\n",
       "      <th></th>\n",
       "    </tr>\n",
       "  </thead>\n",
       "  <tbody>\n",
       "    <tr>\n",
       "      <th>time_in_minutes</th>\n",
       "      <td>1.000000</td>\n",
       "      <td>0.049304</td>\n",
       "    </tr>\n",
       "    <tr>\n",
       "      <th>Year</th>\n",
       "      <td>0.049304</td>\n",
       "      <td>1.000000</td>\n",
       "    </tr>\n",
       "  </tbody>\n",
       "</table>\n",
       "</div>"
      ],
      "text/plain": [
       "0                time_in_minutes      Year\n",
       "0                                         \n",
       "time_in_minutes         1.000000  0.049304\n",
       "Year                    0.049304  1.000000"
      ]
     },
     "execution_count": 68,
     "metadata": {},
     "output_type": "execute_result"
    }
   ],
   "source": [
    "df_budget.corr(numeric_only=True)"
   ]
  },
  {
   "cell_type": "code",
   "execution_count": null,
   "id": "47ee4f7c-f004-466f-bc83-7c3564f42f8a",
   "metadata": {},
   "outputs": [],
   "source": [
    "\n"
   ]
  }
 ],
 "metadata": {
  "kernelspec": {
   "display_name": "Python 3 (ipykernel)",
   "language": "python",
   "name": "python3"
  },
  "language_info": {
   "codemirror_mode": {
    "name": "ipython",
    "version": 3
   },
   "file_extension": ".py",
   "mimetype": "text/x-python",
   "name": "python",
   "nbconvert_exporter": "python",
   "pygments_lexer": "ipython3",
   "version": "3.11.7"
  }
 },
 "nbformat": 4,
 "nbformat_minor": 5
}
